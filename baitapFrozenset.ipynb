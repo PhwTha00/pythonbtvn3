{
  "nbformat": 4,
  "nbformat_minor": 0,
  "metadata": {
    "colab": {
      "provenance": [],
      "authorship_tag": "ABX9TyP0Ovo/qpZrrntKBNTjNQwK",
      "include_colab_link": true
    },
    "kernelspec": {
      "name": "python3",
      "display_name": "Python 3"
    },
    "language_info": {
      "name": "python"
    }
  },
  "cells": [
    {
      "cell_type": "markdown",
      "metadata": {
        "id": "view-in-github",
        "colab_type": "text"
      },
      "source": [
        "<a href=\"https://colab.research.google.com/github/PhwTha00/pythonbtvn3/blob/main/baitapFrozenset.ipynb\" target=\"_parent\"><img src=\"https://colab.research.google.com/assets/colab-badge.svg\" alt=\"Open In Colab\"/></a>"
      ]
    },
    {
      "cell_type": "code",
      "execution_count": null,
      "metadata": {
        "colab": {
          "base_uri": "https://localhost:8080/"
        },
        "id": "dAM7j_oILGSR",
        "outputId": "924df245-e0d2-4a15-8576-75923ea6028a"
      },
      "outputs": [
        {
          "output_type": "stream",
          "name": "stdout",
          "text": [
            "Các phần tử của tập hợp từ 0 đến 99:\n",
            "0 1 2 3 4 5 6 7 8 9 10 11 12 13 14 15 16 17 18 19 20 21 22 23 24 25 26 27 28 29 30 31 32 33 34 35 36 37 38 39 40 41 42 43 44 45 46 47 48 49 50 51 52 53 54 55 56 57 58 59 60 61 62 63 64 65 66 67 68 69 70 71 72 73 74 75 76 77 78 79 80 81 82 83 84 85 86 87 88 89 90 91 92 93 94 95 96 97 98 99 "
          ]
        }
      ],
      "source": [
        "#Bai1: Tạo một tập hợp các phần tử từ 0 đến 99, in chúng ra màn hình\n",
        "\n",
        "my_frozenset = frozenset(range(100))\n",
        "\n",
        "print(\"Các phần tử của tập hợp từ 0 đến 99:\")\n",
        "for element in my_frozenset:\n",
        "    print(element, end=\" \")\n",
        "\n"
      ]
    },
    {
      "cell_type": "code",
      "source": [
        "#Bai2: Tạo một tập hợp gồm các số nguyên lẻ trong khoảng từ 1 đến 199, in chúng ra màn bàn\n",
        "\n",
        "odd_frozenset = frozenset(range(1, 200, 2))\n",
        "\n",
        "print(\"Các số nguyên lẻ từ 1 đến 199:\")\n",
        "for element in odd_frozenset:\n",
        "    print(element, end=\" \")\n"
      ],
      "metadata": {
        "colab": {
          "base_uri": "https://localhost:8080/"
        },
        "id": "yIx4-ZLFLXxV",
        "outputId": "35a32cdc-8d5a-4195-e580-31ea570ae76e"
      },
      "execution_count": null,
      "outputs": [
        {
          "output_type": "stream",
          "name": "stdout",
          "text": [
            "Các số nguyên lẻ từ 1 đến 199:\n",
            "1 3 5 7 9 11 13 15 17 19 21 23 25 27 29 31 33 35 37 39 41 43 45 47 49 51 53 55 57 59 61 63 65 67 69 71 73 75 77 79 81 83 85 87 89 91 93 95 97 99 101 103 105 107 109 111 113 115 117 119 121 123 125 127 129 131 133 135 137 139 141 143 145 147 149 151 153 155 157 159 161 163 165 167 169 171 173 175 177 179 181 183 185 187 189 191 193 195 197 199 "
          ]
        }
      ]
    },
    {
      "cell_type": "code",
      "source": [
        "#Bai3: Tạo một tập hợp gồm các số nhập vào từ bàn phím(nhập trên 1 dòng, cách nhau bởi ký tự trống), tìm và in ra số phần tử của tập, giá trị lớn nhất và nhỏ nhất trong tập\n",
        "\n",
        "input_numbers = input(\"Nhập các số, cách nhau bằng dấu cách: \")\n",
        "numbers_list = input_numbers.split()\n",
        "numbers_frozenset = frozenset(map(int, numbers_list))\n",
        "\n",
        "num_elements = len(numbers_frozenset)\n",
        "\n",
        "max_value = max(numbers_frozenset)\n",
        "min_value = min(numbers_frozenset)\n",
        "\n",
        "print(\"Số phần tử của tập hợp là:\", num_elements)\n",
        "print(\"Giá trị lớn nhất trong tập hợp là:\", max_value)\n",
        "print(\"Giá trị nhỏ nhất trong tập hợp là:\", min_value)\n"
      ],
      "metadata": {
        "id": "wHKHXqVoLXsY"
      },
      "execution_count": null,
      "outputs": []
    },
    {
      "cell_type": "code",
      "source": [
        "#Bai4: Nhập vào từ bàn phím họ và tên đầy đủ của các sinh viên trong lớp, mỗi người trên một dòng. Việc nhập sẽ kết thúc khi người dùng gõ vào dòng trống. Sau đó, hãy in ra các họ và các tên của sinh viên trong lớp\n",
        "\n",
        "students_set = set()\n",
        "\n",
        "print(\"Nhập họ và tên của sinh viên (nhập một dòng trống để kết thúc):\")\n",
        "while True:\n",
        "    full_name = input()\n",
        "    if full_name == '':\n",
        "        break\n",
        "    else:\n",
        "        students_set.add(full_name)\n",
        "\n",
        "frozen_students = frozenset(students_set)\n",
        "\n",
        "print(\"\\nCác họ và tên của sinh viên trong lớp:\")\n",
        "for student in frozen_students:\n",
        "    print(student)\n"
      ],
      "metadata": {
        "id": "lU9xOZvILXpN",
        "colab": {
          "base_uri": "https://localhost:8080/"
        },
        "outputId": "32944d40-bc29-4c84-9324-a90c47185bfa"
      },
      "execution_count": 1,
      "outputs": [
        {
          "output_type": "stream",
          "name": "stdout",
          "text": [
            "Nhập họ và tên của sinh viên (nhập một dòng trống để kết thúc):\n",
            "nguyen thao\n",
            "hoang lua\n",
            "mai anh\n",
            "\n",
            "\n",
            "Các họ và tên của sinh viên trong lớp:\n",
            "nguyen thao\n",
            "hoang lua\n",
            "mai anh\n"
          ]
        }
      ]
    },
    {
      "cell_type": "code",
      "source": [
        "#Bai5:Nhập số nguyên N,tạo ra một tập hợp các số nguyên dương d là ước số của N\n",
        "\n",
        "def find_divisors(N):\n",
        "    divisors = set()\n",
        "\n",
        "    for i in range(1, N + 1):\n",
        "        if N % i == 0:\n",
        "            divisors.add(i)\n",
        "\n",
        "    return frozenset(divisors)\n",
        "\n",
        "N = int(input(\"Nhập số nguyên N: \"))\n",
        "\n",
        "divisors_frozenset = find_divisors(N)\n",
        "\n",
        "print(\"Tập hợp các ước số dương của\", N, \"là:\", divisors_frozenset)\n"
      ],
      "metadata": {
        "id": "_MDw-sGuMTK7",
        "colab": {
          "base_uri": "https://localhost:8080/"
        },
        "outputId": "1c32a915-03e0-4da6-c78f-7f448cad0f6c"
      },
      "execution_count": 2,
      "outputs": [
        {
          "output_type": "stream",
          "name": "stdout",
          "text": [
            "Nhập số nguyên N: 20\n",
            "Tập hợp các ước số dương của 20 là: frozenset({1, 2, 4, 5, 20, 10})\n"
          ]
        }
      ]
    },
    {
      "cell_type": "code",
      "source": [
        "#Bai6: Nhập 2 số nguyên a và b, hãy tạo ra một tập hợp các số d là ước chung của cả a và b\n",
        "\n",
        "def find_common_divisors(a, b):\n",
        "    divisors_a = {i for i in range(1, a + 1) if a % i == 0}  # Tập hợp các ước số của a\n",
        "    divisors_b = {i for i in range(1, b + 1) if b % i == 0}  # Tập hợp các ước số của b\n",
        "    common_divisors = divisors_a.intersection(divisors_b)  # Tìm tập hợp giao của hai tập hợp\n",
        "\n",
        "    return common_divisors\n",
        "\n",
        "a = int(input(\"Nhập số nguyên a: \"))\n",
        "b = int(input(\"Nhập số nguyên b: \"))\n",
        "\n",
        "common_divisors_set = find_common_divisors(a, b)\n",
        "\n",
        "print(\"Tập hợp các ước số chung của\", a, \"và\", b, \"là:\", common_divisors_set)\n"
      ],
      "metadata": {
        "id": "yHe8nDj6LXkR",
        "colab": {
          "base_uri": "https://localhost:8080/"
        },
        "outputId": "ebe5bb82-ff40-426f-df6e-cfb79cf3a729"
      },
      "execution_count": 3,
      "outputs": [
        {
          "output_type": "stream",
          "name": "stdout",
          "text": [
            "Nhập số nguyên a: 16\n",
            "Nhập số nguyên b: 20\n",
            "Tập hợp các ước số chung của 16 và 20 là: {1, 2, 4}\n"
          ]
        }
      ]
    },
    {
      "cell_type": "code",
      "source": [
        "#Bai7: Nhập một dãy số nguyên từ bàn phím, các số được viết liên tiếp, ngăn cách nhau bởi dấu phẩy(;),hãy đếm xem dãy nhập\n",
        "\n",
        "sequence = input(\"Nhập dãy số nguyên: \")\n",
        "numbers = sequence.split(';')\n",
        "count = len(numbers)\n",
        "print(\"Dãy nhập có\", count, \"số.\")\n"
      ],
      "metadata": {
        "id": "0hLR9ypALXgH",
        "colab": {
          "base_uri": "https://localhost:8080/"
        },
        "outputId": "30fb1151-3eb6-47a2-b44b-11d243fb22ce"
      },
      "execution_count": 4,
      "outputs": [
        {
          "output_type": "stream",
          "name": "stdout",
          "text": [
            "Nhập dãy số nguyên: 1;3;5;6;7;8;8;6;5;4;9\n",
            "Dãy nhập có 11 số.\n"
          ]
        }
      ]
    }
  ]
}