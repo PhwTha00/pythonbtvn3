{
  "nbformat": 4,
  "nbformat_minor": 0,
  "metadata": {
    "colab": {
      "provenance": [],
      "authorship_tag": "ABX9TyPrfIiOis6lEtgp0sgrRGiz",
      "include_colab_link": true
    },
    "kernelspec": {
      "name": "python3",
      "display_name": "Python 3"
    },
    "language_info": {
      "name": "python"
    }
  },
  "cells": [
    {
      "cell_type": "markdown",
      "metadata": {
        "id": "view-in-github",
        "colab_type": "text"
      },
      "source": [
        "<a href=\"https://colab.research.google.com/github/PhwTha00/pythonbtvn3/blob/main/baitapfrozenset.ipynb\" target=\"_parent\"><img src=\"https://colab.research.google.com/assets/colab-badge.svg\" alt=\"Open In Colab\"/></a>"
      ]
    },
    {
      "cell_type": "code",
      "execution_count": null,
      "metadata": {
        "colab": {
          "base_uri": "https://localhost:8080/"
        },
        "id": "dAM7j_oILGSR",
        "outputId": "924df245-e0d2-4a15-8576-75923ea6028a"
      },
      "outputs": [
        {
          "output_type": "stream",
          "name": "stdout",
          "text": [
            "Các phần tử của tập hợp từ 0 đến 99:\n",
            "0 1 2 3 4 5 6 7 8 9 10 11 12 13 14 15 16 17 18 19 20 21 22 23 24 25 26 27 28 29 30 31 32 33 34 35 36 37 38 39 40 41 42 43 44 45 46 47 48 49 50 51 52 53 54 55 56 57 58 59 60 61 62 63 64 65 66 67 68 69 70 71 72 73 74 75 76 77 78 79 80 81 82 83 84 85 86 87 88 89 90 91 92 93 94 95 96 97 98 99 "
          ]
        }
      ],
      "source": [
        "#Bai1: Tạo một tập hợp các phần tử từ 0 đến 99, in chúng ra màn hình\n",
        "\n",
        "my_frozenset = frozenset(range(100))\n",
        "\n",
        "print(\"Các phần tử của tập hợp từ 0 đến 99:\")\n",
        "for element in my_frozenset:\n",
        "    print(element, end=\" \")\n",
        "\n"
      ]
    },
    {
      "cell_type": "code",
      "source": [
        "#Bai2: Tạo một tập hợp gồm các số nguyên lẻ trong khoảng từ 1 đến 199, in chúng ra màn bàn\n",
        "\n",
        "odd_frozenset = frozenset(range(1, 200, 2))\n",
        "\n",
        "print(\"Các số nguyên lẻ từ 1 đến 199:\")\n",
        "for element in odd_frozenset:\n",
        "    print(element, end=\" \")\n"
      ],
      "metadata": {
        "colab": {
          "base_uri": "https://localhost:8080/"
        },
        "id": "yIx4-ZLFLXxV",
        "outputId": "35a32cdc-8d5a-4195-e580-31ea570ae76e"
      },
      "execution_count": null,
      "outputs": [
        {
          "output_type": "stream",
          "name": "stdout",
          "text": [
            "Các số nguyên lẻ từ 1 đến 199:\n",
            "1 3 5 7 9 11 13 15 17 19 21 23 25 27 29 31 33 35 37 39 41 43 45 47 49 51 53 55 57 59 61 63 65 67 69 71 73 75 77 79 81 83 85 87 89 91 93 95 97 99 101 103 105 107 109 111 113 115 117 119 121 123 125 127 129 131 133 135 137 139 141 143 145 147 149 151 153 155 157 159 161 163 165 167 169 171 173 175 177 179 181 183 185 187 189 191 193 195 197 199 "
          ]
        }
      ]
    },
    {
      "cell_type": "code",
      "source": [
        "#Bai3: Tạo một tập hợp gồm các số nhập vào từ bàn phím(nhập trên 1 dòng, cách nhau bởi ký tự trống), tìm và in ra số phần tử của tập, giá trị lớn nhất và nhỏ nhất trong tập\n",
        "\n",
        "input_numbers = input(\"Nhập các số, cách nhau bằng dấu cách: \")\n",
        "numbers_list = input_numbers.split()\n",
        "numbers_frozenset = frozenset(map(int, numbers_list))\n",
        "\n",
        "num_elements = len(numbers_frozenset)\n",
        "\n",
        "max_value = max(numbers_frozenset)\n",
        "min_value = min(numbers_frozenset)\n",
        "\n",
        "print(\"Số phần tử của tập hợp là:\", num_elements)\n",
        "print(\"Giá trị lớn nhất trong tập hợp là:\", max_value)\n",
        "print(\"Giá trị nhỏ nhất trong tập hợp là:\", min_value)\n"
      ],
      "metadata": {
        "id": "wHKHXqVoLXsY"
      },
      "execution_count": null,
      "outputs": []
    },
    {
      "cell_type": "code",
      "source": [
        "#Bai4: Nhập vào từ bàn phím họ và tên đầy đủ của các sinh viên trong lớp, mỗi người trên một dòng. Việc nhập sẽ kết thúc khi người dùng gõ vào dòng trống. Sau đó, hãy in ra các họ và các tên của sinh viên trong lớp\n",
        "\n",
        "students_set = set()\n",
        "\n",
        "print(\"Nhập họ và tên của sinh viên (nhập một dòng trống để kết thúc):\")\n",
        "while True:\n",
        "    full_name = input()\n",
        "    if full_name == '':\n",
        "        break\n",
        "    else:\n",
        "        students_set.add(full_name)\n",
        "\n",
        "frozen_students = frozenset(students_set)\n",
        "\n",
        "print(\"\\nCác họ và tên của sinh viên trong lớp:\")\n",
        "for student in frozen_students:\n",
        "    print(student)\n"
      ],
      "metadata": {
        "id": "lU9xOZvILXpN",
        "colab": {
          "base_uri": "https://localhost:8080/"
        },
        "outputId": "32944d40-bc29-4c84-9324-a90c47185bfa"
      },
      "execution_count": null,
      "outputs": [
        {
          "output_type": "stream",
          "name": "stdout",
          "text": [
            "Nhập họ và tên của sinh viên (nhập một dòng trống để kết thúc):\n",
            "nguyen thao\n",
            "hoang lua\n",
            "mai anh\n",
            "\n",
            "\n",
            "Các họ và tên của sinh viên trong lớp:\n",
            "nguyen thao\n",
            "hoang lua\n",
            "mai anh\n"
          ]
        }
      ]
    },
    {
      "cell_type": "code",
      "source": [
        "#Bai5:Nhập số nguyên N,tạo ra một tập hợp các số nguyên dương d là ước số của N\n",
        "\n",
        "def find_divisors(N):\n",
        "    divisors = set()\n",
        "\n",
        "    for i in range(1, N + 1):\n",
        "        if N % i == 0:\n",
        "            divisors.add(i)\n",
        "\n",
        "    return frozenset(divisors)\n",
        "\n",
        "N = int(input(\"Nhập số nguyên N: \"))\n",
        "\n",
        "divisors_frozenset = find_divisors(N)\n",
        "\n",
        "print(\"Tập hợp các ước số dương của\", N, \"là:\", divisors_frozenset)\n"
      ],
      "metadata": {
        "id": "_MDw-sGuMTK7",
        "colab": {
          "base_uri": "https://localhost:8080/"
        },
        "outputId": "1c32a915-03e0-4da6-c78f-7f448cad0f6c"
      },
      "execution_count": null,
      "outputs": [
        {
          "output_type": "stream",
          "name": "stdout",
          "text": [
            "Nhập số nguyên N: 20\n",
            "Tập hợp các ước số dương của 20 là: frozenset({1, 2, 4, 5, 20, 10})\n"
          ]
        }
      ]
    },
    {
      "cell_type": "code",
      "source": [
        "#Bai6: Nhập 2 số nguyên a và b, hãy tạo ra một tập hợp các số d là ước chung của cả a và b\n",
        "\n",
        "def find_common_divisors(a, b):\n",
        "    divisors_a = {i for i in range(1, a + 1) if a % i == 0}  # Tập hợp các ước số của a\n",
        "    divisors_b = {i for i in range(1, b + 1) if b % i == 0}  # Tập hợp các ước số của b\n",
        "    common_divisors = divisors_a.intersection(divisors_b)  # Tìm tập hợp giao của hai tập hợp\n",
        "\n",
        "    return common_divisors\n",
        "\n",
        "a = int(input(\"Nhập số nguyên a: \"))\n",
        "b = int(input(\"Nhập số nguyên b: \"))\n",
        "\n",
        "common_divisors_set = find_common_divisors(a, b)\n",
        "\n",
        "print(\"Tập hợp các ước số chung của\", a, \"và\", b, \"là:\", common_divisors_set)\n"
      ],
      "metadata": {
        "id": "yHe8nDj6LXkR",
        "colab": {
          "base_uri": "https://localhost:8080/"
        },
        "outputId": "ebe5bb82-ff40-426f-df6e-cfb79cf3a729"
      },
      "execution_count": null,
      "outputs": [
        {
          "output_type": "stream",
          "name": "stdout",
          "text": [
            "Nhập số nguyên a: 16\n",
            "Nhập số nguyên b: 20\n",
            "Tập hợp các ước số chung của 16 và 20 là: {1, 2, 4}\n"
          ]
        }
      ]
    },
    {
      "cell_type": "code",
      "source": [
        "#Bai7: Nhập một dãy số nguyên từ bàn phím, các số được viết liên tiếp, ngăn cách nhau bởi dấu phẩy(;),hãy đếm xem dãy nhập\n",
        "\n",
        "sequence = input(\"Nhập dãy số nguyên: \")\n",
        "numbers = sequence.split(';')\n",
        "count = len(numbers)\n",
        "print(\"Dãy nhập có\", count, \"số.\")\n"
      ],
      "metadata": {
        "id": "0hLR9ypALXgH",
        "colab": {
          "base_uri": "https://localhost:8080/"
        },
        "outputId": "30fb1151-3eb6-47a2-b44b-11d243fb22ce"
      },
      "execution_count": null,
      "outputs": [
        {
          "output_type": "stream",
          "name": "stdout",
          "text": [
            "Nhập dãy số nguyên: 1;3;5;6;7;8;8;6;5;4;9\n",
            "Dãy nhập có 11 số.\n"
          ]
        }
      ]
    },
    {
      "cell_type": "code",
      "source": [
        "#Bai8: Vé Vietlot Mega là bộ 6 số chỉ từ 01 đến 45. Người chơi sẽ thắng nếu chọn đúng ít nhất 5 trong 6 số, thứ tự không quan trọng. Hãy viết chương trình nhập vào N bộ 6 số của N người, sau đó nhập tiêp 6 số của giải đặc biệt và in ra các bộ số của người chơi thắng cuộc.\n",
        "def check_win(ticket_numbers, special_numbers):\n",
        "    count = 0\n",
        "    for number in ticket_numbers:\n",
        "        if number in special_numbers:\n",
        "            count += 1\n",
        "    return count >= 5\n",
        "\n",
        "N = int(input(\"Nhập số lượng người chơi: \"))\n",
        "\n",
        "winning_tickets = []\n",
        "\n",
        "for i in range(N):\n",
        "    print(f\"Nhập bộ số của người chơi thứ {i + 1}:\")\n",
        "    ticket_numbers = list(map(int, input().split()))\n",
        "    winning_tickets.append(ticket_numbers)\n",
        "\n",
        "print(\"Nhập 6 số của giải đặc biệt:\")\n",
        "special_numbers = list(map(int, input().split()))\n",
        "1\n",
        "print(\"Các bộ số của người chơi thắng cuộc là:\")\n",
        "for ticket_numbers in winning_tickets:\n",
        "    if check_win(ticket_numbers, special_numbers):\n",
        "        print(ticket_numbers)\n"
      ],
      "metadata": {
        "colab": {
          "base_uri": "https://localhost:8080/"
        },
        "id": "HOqshFWd3PTt",
        "outputId": "e1de83be-952b-4540-8b57-7ed86344fce9"
      },
      "execution_count": null,
      "outputs": [
        {
          "output_type": "stream",
          "name": "stdout",
          "text": [
            "Nhập số lượng người chơi: 4\n",
            "Nhập bộ số của người chơi thứ 1:\n",
            "12 24 21 45 23 10\n",
            "Nhập bộ số của người chơi thứ 2:\n",
            "32 45 30 34 23 11\n",
            "Nhập bộ số của người chơi thứ 3:\n",
            "23 45 21 32 14 54 21\n",
            "Nhập bộ số của người chơi thứ 4:\n",
            "23 12 34 21 24 45 \n",
            "Nhập 6 số của giải đặc biệt:\n",
            "12 24 21 45 23  29\n",
            "Các bộ số của người chơi thắng cuộc là:\n",
            "[12, 24, 21, 45, 23, 10]\n",
            "[23, 12, 34, 21, 24, 45]\n"
          ]
        }
      ]
    },
    {
      "cell_type": "code",
      "source": [
        "# Bai9: Một công ty có 3 phòng chức năng có thể dùng chung nhân viên là phòng nhân sự, phòng hành chính và phòng truyền thống. Các nhân viên có mã nhân viên là các số nguyên dương . Hãy thực hiện các việc:\n",
        "# a. Nhập danh sách mã nhân viên của cả 3 phòng, danh sách được viết liên tục trên một dòng, ngăn cách bởi dấu phẩy.\n",
        "# b. Ba phòng ban này sử dụng bao nhiêu nhân viên?\n",
        "# c. In ra danh sách các mã nhân viên thuộc cả 3 phòng\n",
        "# d. In ra danh sách các mã nhân viên chỉ thuộc 1 phòng\n",
        "# e. Tìm cặp phòng dùng chung nhiều nhân viên nhất, nếu có nhiều cặp phòng như vậy thì in ra tất cả các cặp\n",
        "# f. với từng phòng, in ra mã nhân viên đầu tiên của phòng(có mã nhỏ nhất)\n",
        "\n",
        "# Nhập danh sách mã nhân viên của các phòng\n",
        "phong_nhan_su = list(map(int, input(\"Nhập danh sách mã nhân viên của phòng nhân sự: \").split(',')))\n",
        "phong_hanh_chinh = list(map(int, input(\"Nhập danh sách mã nhân viên của phòng hành chính: \").split(',')))\n",
        "phong_truyen_thong = list(map(int, input(\"Nhập danh sách mã nhân viên của phòng truyền thống: \").split(',')))\n",
        "\n",
        "# Tính tổng số nhân viên của ba phòng\n",
        "tong_so_nhan_vien = len(phong_nhan_su) + len(phong_hanh_chinh) + len(phong_truyen_thong)\n",
        "print(\"Tổng số nhân viên của ba phòng là:\", tong_so_nhan_vien)\n",
        "\n",
        "# Danh sách mã nhân viên thuộc cả 3 phòng\n",
        "nhung_nhan_vien_chung = list(set(phong_nhan_su) & set(phong_hanh_chinh) & set(phong_truyen_thong))\n",
        "print(\"Danh sách mã nhân viên thuộc cả 3 phòng:\", nhung_nhan_vien_chung)\n",
        "\n",
        "# Danh sách mã nhân viên chỉ thuộc 1 phòng\n",
        "nhung_nhan_vien_chi_thuoc_mot_phong = list(set(phong_nhan_su) ^ set(phong_hanh_chinh) ^ set(phong_truyen_thong))\n",
        "print(\"Danh sách mã nhân viên chỉ thuộc 1 phòng:\", nhung_nhan_vien_chi_thuoc_mot_phong)\n",
        "\n",
        "# Tìm cặp phòng dùng chung nhiều nhân viên nhất\n",
        "so_nhan_vien_chung_max = max(len(set(phong_nhan_su) & set(phong_hanh_chinh)),\n",
        "                             len(set(phong_nhan_su) & set(phong_truyen_thong)),\n",
        "                             len(set(phong_hanh_chinh) & set(phong_truyen_thong)))\n",
        "\n",
        "cacs_cap_phong_max = []\n",
        "if len(set(phong_nhan_su) & set(phong_hanh_chinh)) == so_nhan_vien_chung_max:\n",
        "    cacs_cap_phong_max.append((\"phòng nhân sự\", \"phòng hành chính\"))\n",
        "if len(set(phong_nhan_su) & set(phong_truyen_thong)) == so_nhan_vien_chung_max:\n",
        "    cacs_cap_phong_max.append((\"phòng nhân sự\", \"phòng truyền thống\"))\n",
        "if len(set(phong_hanh_chinh) & set(phong_truyen_thong)) == so_nhan_vien_chung_max:\n",
        "    cacs_cap_phong_max.append((\"phòng hành chính\", \"phòng truyền thống\"))\n",
        "\n",
        "print(\"Các cặp phòng dùng chung nhiều nhân viên nhất:\", cacs_cap_phong_max)\n",
        "\n",
        "# In ra mã nhân viên đầu tiên của từng phòng\n",
        "print(\"Mã nhân viên đầu tiên của phòng nhân sự:\", min(phong_nhan_su))\n",
        "print(\"Mã nhân viên đầu tiên của phòng hành chính:\", min(phong_hanh_chinh))\n",
        "print(\"Mã nhân viên đầu tiên của phòng truyền thống:\", min(phong_truyen_thong))\n",
        "\n"
      ],
      "metadata": {
        "colab": {
          "base_uri": "https://localhost:8080/"
        },
        "id": "LbP4lrfa3zxv",
        "outputId": "d30900de-c62e-4c88-a5f9-f06b64eaff23"
      },
      "execution_count": null,
      "outputs": [
        {
          "output_type": "stream",
          "name": "stdout",
          "text": [
            "Nhập danh sách mã nhân viên của phòng nhân sự: 214,453,534,542,546,252,745,342,634,244,545,643,634,754,742,764,678\n",
            "Nhập danh sách mã nhân viên của phòng hành chính: 345,654,657,323,546,744,746,242,654,252,646,765,453,214,543,244\n",
            "Nhập danh sách mã nhân viên của phòng truyền thống: 323,453,245,214,532,523,765,675,755,435,744,754,865,553,435\n",
            "Tổng số nhân viên của ba phòng là: 48\n",
            "Danh sách mã nhân viên thuộc cả 3 phòng: [453, 214]\n",
            "Danh sách mã nhân viên chỉ thuộc 1 phòng: [643, 646, 523, 654, 657, 532, 534, 542, 543, 545, 675, 678, 553, 435, 453, 214, 342, 345, 865, 742, 745, 746, 755, 242, 245, 634, 764]\n",
            "Các cặp phòng dùng chung nhiều nhân viên nhất: [('phòng nhân sự', 'phòng hành chính'), ('phòng hành chính', 'phòng truyền thống')]\n",
            "Mã nhân viên đầu tiên của phòng nhân sự: 214\n",
            "Mã nhân viên đầu tiên của phòng hành chính: 214\n",
            "Mã nhân viên đầu tiên của phòng truyền thống: 214\n"
          ]
        }
      ]
    }
  ]
}